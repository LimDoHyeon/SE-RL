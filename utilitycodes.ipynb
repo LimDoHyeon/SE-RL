{
 "cells": [
  {
   "cell_type": "code",
   "execution_count": null,
   "id": "initial_id",
   "metadata": {
    "collapsed": true
   },
   "outputs": [],
   "source": [
    "#!/usr/bin/env python3\n",
    "\"\"\"\n",
    "move_val_segments.py\n",
    "\n",
    "Move validation segments listed in val.lst from train-0 to val directory,\n",
    "using os.path.join for path construction and adapting to val.lst’s “train-0/…” entries.\n",
    "\n",
    "Folder structure example:\n",
    "  data/Valentini/valentini/\n",
    "      ├ train-0/\n",
    "      │    ├ clean/\n",
    "      │    │    └ p226/p226_001_000.wav\n",
    "      │    │    └ ...\n",
    "      │    └ noisy/\n",
    "      │         └ p226/p226_001_000.wav\n",
    "      │         └ ...\n",
    "      ├ val.lst   (lines like \"train-0/noisy/p226/p226_001_000.wav\")\n",
    "      └ (other splits)\n",
    "\n",
    "After running, for each entry in val.lst (“train-0/clean/… ” or “train-0/noisy/…”),\n",
    "the script will:\n",
    "  - move the corresponding clean file from train-0/clean/... to val/clean/...\n",
    "  - move the corresponding noisy file from train-0/noisy/... to val/noisy/...\n",
    "\"\"\"\n",
    "\n",
    "def train2val():\n",
    "    import os\n",
    "    import shutil\n",
    "\n",
    "    # 1) Base directory where train-0 and val.lst reside\n",
    "    data_root = os.path.join(\"data\", \"Valentini\", \"valentini\")\n",
    "    # Example Windows path: r\"C:\\Users\\AITER\\Documents\\Pythonworkspace\\SE-RL\\data\\Valentini\\valentini\"\n",
    "\n",
    "    # 2) Paths to train-0 clean/noisy and val clean/noisy\n",
    "    train0_clean_dir = os.path.join(data_root, \"train-0\", \"clean\")\n",
    "    train0_noisy_dir = os.path.join(data_root, \"train-0\", \"noisy\")\n",
    "    val_clean_dir = os.path.join(data_root, \"val\", \"clean\")\n",
    "    val_noisy_dir = os.path.join(data_root, \"val\", \"noisy\")\n",
    "\n",
    "    # 3) Ensure val clean/noisy directories exist\n",
    "    os.makedirs(val_clean_dir, exist_ok=True)\n",
    "    os.makedirs(val_noisy_dir, exist_ok=True)\n",
    "\n",
    "    # 4) Path to val.lst\n",
    "    val_list_path = os.path.join(data_root, \"val.lst\")\n",
    "    if not os.path.exists(val_list_path):\n",
    "        raise FileNotFoundError(f\"val.lst not found at {val_list_path}\")\n",
    "\n",
    "    # 5) Read val.lst and move files\n",
    "    with open(val_list_path, \"r\", encoding=\"utf-8\") as f:\n",
    "        for line in f:\n",
    "            rel_path = line.strip()  # e.g., \"train-0/noisy/p226/p226_001_000.wav\"\n",
    "            if not rel_path:\n",
    "                continue\n",
    "\n",
    "            # Split on forward slash regardless of OS\n",
    "            parts = rel_path.split(\"/\")\n",
    "            # Expect parts: [\"train-0\", \"clean\" or \"noisy\", \"p226\", \"p226_001_000.wav\"]\n",
    "            if len(parts) < 4 or parts[0] != \"train-0\":\n",
    "                print(f\"[WARN] Unexpected entry in val.lst: {rel_path}\")\n",
    "                continue\n",
    "\n",
    "            _, category, spk, fname = parts[:4]\n",
    "            rel_subpath = os.path.join(spk, fname)  # \"p226/p226_001_000.wav\"\n",
    "\n",
    "            # Source and destination for clean\n",
    "            if category == \"clean\":\n",
    "                src_clean = os.path.join(train0_clean_dir, rel_subpath)\n",
    "            else:\n",
    "                src_clean = os.path.join(train0_clean_dir, spk, fname)  # still under train-0/clean\n",
    "            dst_clean = os.path.join(val_clean_dir, spk, fname)\n",
    "            os.makedirs(os.path.dirname(dst_clean), exist_ok=True)\n",
    "            if os.path.exists(src_clean):\n",
    "                shutil.move(src_clean, dst_clean)\n",
    "            else:\n",
    "                print(f\"[WARN] Clean file not found: {src_clean}\")\n",
    "\n",
    "            # Source and destination for noisy\n",
    "            if category == \"noisy\":\n",
    "                src_noisy = os.path.join(train0_noisy_dir, rel_subpath)\n",
    "            else:\n",
    "                src_noisy = os.path.join(train0_noisy_dir, spk, fname)\n",
    "            dst_noisy = os.path.join(val_noisy_dir, spk, fname)\n",
    "            os.makedirs(os.path.dirname(dst_noisy), exist_ok=True)\n",
    "            if os.path.exists(src_noisy):\n",
    "                shutil.move(src_noisy, dst_noisy)\n",
    "            else:\n",
    "                print(f\"[WARN] Noisy file not found: {src_noisy}\")\n",
    "\n",
    "    print(\"Finished moving all validation segments.\")"
   ]
  },
  {
   "metadata": {},
   "cell_type": "code",
   "outputs": [],
   "execution_count": null,
   "source": [
    "def testaudio():\n",
    "    import soundfile as sf\n",
    "    audio, sr = sf.read('data/Valentini/valentini/train-0/clean/p237/p237_001_000.wav')\n",
    "    print(audio.shape, sr)"
   ],
   "id": "8d09505bfaa88414"
  },
  {
   "metadata": {
    "ExecuteTime": {
     "end_time": "2025-06-04T02:27:51.474969Z",
     "start_time": "2025-06-04T02:27:50.626542Z"
    }
   },
   "cell_type": "code",
   "source": [
    "def count_wav_files(directory):\n",
    "    import os\n",
    "\n",
    "    count = 0\n",
    "    for entry in os.scandir(directory):\n",
    "        if entry.is_file() and entry.name.lower().endswith('.wav'):\n",
    "            count += 1\n",
    "        elif entry.is_dir():\n",
    "            count += count_wav_files(entry.path)\n",
    "    return count"
   ],
   "id": "d705ea872efbe499",
   "outputs": [
    {
     "name": "stdout",
     "output_type": "stream",
     "text": [
      "Total .wav files: 234270\n"
     ]
    }
   ],
   "execution_count": 1
  },
  {
   "metadata": {},
   "cell_type": "markdown",
   "source": "## Execute the code you want below",
   "id": "d094eea6b6306d51"
  },
  {
   "metadata": {
    "ExecuteTime": {
     "end_time": "2025-06-04T02:29:43.392820Z",
     "start_time": "2025-06-04T02:29:42.575383Z"
    }
   },
   "cell_type": "code",
   "source": "count_wav_files(\"data/Valentini/valentini/train-0\")",
   "id": "5105c36fc20bede3",
   "outputs": [
    {
     "data": {
      "text/plain": [
       "234270"
      ]
     },
     "execution_count": 7,
     "metadata": {},
     "output_type": "execute_result"
    }
   ],
   "execution_count": 7
  },
  {
   "metadata": {},
   "cell_type": "code",
   "outputs": [],
   "execution_count": null,
   "source": "",
   "id": "162a328f74af77ec"
  }
 ],
 "metadata": {
  "kernelspec": {
   "display_name": "Python 3",
   "language": "python",
   "name": "python3"
  },
  "language_info": {
   "codemirror_mode": {
    "name": "ipython",
    "version": 2
   },
   "file_extension": ".py",
   "mimetype": "text/x-python",
   "name": "python",
   "nbconvert_exporter": "python",
   "pygments_lexer": "ipython2",
   "version": "2.7.6"
  }
 },
 "nbformat": 4,
 "nbformat_minor": 5
}
